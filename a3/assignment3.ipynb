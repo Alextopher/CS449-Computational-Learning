{
 "cells": [
  {
   "cell_type": "markdown",
   "metadata": {},
   "source": [
    "In this assignment, we experiment with boosting as a method for improving the prediction accuracy of learning algorithms.\n",
    "\n",
    "1. Use scikit-learn but design your own implementation of the AdaBoost algorithm.\n",
    "As a bonus, compare this with the implementation of AdaBoost in scikit-learn.\n",
    "\n",
    "2. Test the boosting algorithm on the MNIST digit database.\n",
    "Convert the multiclass dataset to a two-class dataset (for example: even versus odd, prime versus non-prime, etc).\n",
    "\n",
    "3. Choose at least two \"weak\" learners for your experiments.\n",
    "For one of the weak learners, use the decision tree classifier which is supported by scikit-learn.\n",
    "Then, choose another weak classifier of your choice (within scikit-learn) and compare this with the decision tree weak classifier.\n",
    "\n",
    "4. Provide a plot showing how the training error of the AdaBoost classifier changes during the boosting process.\n",
    "Determine whether boosting works effectively and which weak classifier is better. \n",
    "\n",
    "_Submit via email your source file(s) and the plot (as PDF). Provide a brief demo of your program. You may work in groups of three._\n",
    "\n",
    "**Bonus**\n",
    "Repeat the above using a different real-world dataset (other than the MNIST digit dataset) of your choice. "
   ]
  },
  {
   "cell_type": "code",
   "execution_count": 1,
   "metadata": {},
   "outputs": [],
   "source": [
    "from sklearn import datasets, metrics\n",
    "from sklearn.model_selection import train_test_split\n",
    "from sklearn.tree import DecisionTreeClassifier\n",
    "from sklearn.ensemble import AdaBoostClassifier\n",
    "\n",
    "import matplotlib.pyplot as plt"
   ]
  },
  {
   "cell_type": "code",
   "execution_count": 2,
   "metadata": {},
   "outputs": [
    {
     "data": {
      "image/png": "[encoded data removed]",
      "text/plain": [
       "<Figure size 720x216 with 4 Axes>"
      ]
     },
     "metadata": {
      "needs_background": "light"
     },
     "output_type": "display_data"
    }
   ],
   "source": [
    "# Load the digits dataset\n",
    "digits = datasets.load_digits()\n",
    "\n",
    "# Display some images\n",
    "_, axes = plt.subplots(nrows=1, ncols=4, figsize=(10, 3))\n",
    "for ax, image, label in zip(axes, digits.images, digits.target):\n",
    "    ax.set_axis_off()\n",
    "    ax.imshow(image, cmap=plt.cm.gray_r, interpolation=\"nearest\")\n",
    "    ax.set_title(\"Training: %i\" % label)"
   ]
  },
  {
   "cell_type": "code",
   "execution_count": 3,
   "metadata": {},
   "outputs": [],
   "source": [
    "# flatten the images\n",
    "n_samples = len(digits.images)\n",
    "data = digits.images.reshape((n_samples, -1))\n",
    "\n",
    "# Convert the multiclass dataset to a two-class dataset\n",
    "# even -1 or odd 1\n",
    "target = [2 * (t % 2) - 1 for t in digits.target]\n",
    "\n",
    "# Split data into 25% train and 75% test subsets\n",
    "X_train, X_test, y_train, y_test = train_test_split(\n",
    "    data, target, test_size=0.25, shuffle=False\n",
    ")"
   ]
  },
  {
   "cell_type": "code",
   "execution_count": 4,
   "metadata": {},
   "outputs": [
    {
     "data": {
      "image/png": "[encoded data removed]",
      "text/plain": [
       "<Figure size 720x216 with 4 Axes>"
      ]
     },
     "metadata": {
      "needs_background": "light"
     },
     "output_type": "display_data"
    }
   ],
   "source": [
    "# Decision tree classifier\n",
    "clf = DecisionTreeClassifier(random_state=0)\n",
    "\n",
    "# Learn the digits on the train subset\n",
    "clf.fit(X_train, y_train)\n",
    "\n",
    "# Predict the value of the digit on the test subset\n",
    "predicted = clf.predict(X_test)\n",
    "\n",
    "_, axes = plt.subplots(nrows=1, ncols=4, figsize=(10, 3))\n",
    "for ax, image, prediction in zip(axes, X_test, predicted):\n",
    "    ax.set_axis_off()\n",
    "    image = image.reshape(8, 8)\n",
    "    ax.imshow(image, cmap=plt.cm.gray_r, interpolation=\"nearest\")\n",
    "    ax.set_title(f\"Prediction: {prediction}\")"
   ]
  },
  {
   "cell_type": "code",
   "execution_count": 5,
   "metadata": {
    "scrolled": true
   },
   "outputs": [
    {
     "name": "stdout",
     "output_type": "stream",
     "text": [
      "Classification report for classifier DecisionTreeClassifier(random_state=0):\n",
      "              precision    recall  f1-score   support\n",
      "\n",
      "          -1       0.86      0.91      0.89       222\n",
      "           1       0.91      0.86      0.88       228\n",
      "\n",
      "    accuracy                           0.89       450\n",
      "   macro avg       0.89      0.89      0.89       450\n",
      "weighted avg       0.89      0.89      0.89       450\n",
      "\n",
      "\n"
     ]
    }
   ],
   "source": [
    "print(\n",
    "    f\"Classification report for classifier {clf}:\\n\"\n",
    "    f\"{metrics.classification_report(y_test, predicted)}\\n\"\n",
    ")"
   ]
  },
  {
   "cell_type": "code",
   "execution_count": 6,
   "metadata": {
    "scrolled": true
   },
   "outputs": [
    {
     "name": "stdout",
     "output_type": "stream",
     "text": [
      "Classification report for classifier AdaBoostClassifier(n_estimators=100, random_state=0):\n",
      "              precision    recall  f1-score   support\n",
      "\n",
      "          -1       0.94      0.92      0.93       222\n",
      "           1       0.93      0.94      0.93       228\n",
      "\n",
      "    accuracy                           0.93       450\n",
      "   macro avg       0.93      0.93      0.93       450\n",
      "weighted avg       0.93      0.93      0.93       450\n",
      "\n",
      "\n"
     ]
    }
   ],
   "source": [
    "# sklearn AdaBoost\n",
    "clf2 = AdaBoostClassifier(n_estimators=100, random_state=0)\n",
    "\n",
    "# Learn the digits on the train subset\n",
    "clf2.fit(X_train, y_train)\n",
    "\n",
    "# Predict the value of the digit on the test subset\n",
    "predicted2 = clf2.predict(X_test)\n",
    "\n",
    "print(\n",
    "    f\"Classification report for classifier {clf2}:\\n\"\n",
    "    f\"{metrics.classification_report(y_test, predicted2)}\\n\"\n",
    ")"
   ]
  }
 ],
 "metadata": {
  "interpreter": {
   "hash": "aee8b7b246df8f9039afb4144a1f6fd8d2ca17a180786b69acc140d282b71a49"
  },
  "kernelspec": {
   "display_name": "Python 3 (ipykernel)",
   "language": "python",
   "name": "python3"
  },
  "language_info": {
   "codemirror_mode": {
    "name": "ipython",
    "version": 3
   },
   "file_extension": ".py",
   "mimetype": "text/x-python",
   "name": "python",
   "nbconvert_exporter": "python",
   "pygments_lexer": "ipython3",
   "version": "3.9.9"
  }
 },
 "nbformat": 4,
 "nbformat_minor": 2
}
